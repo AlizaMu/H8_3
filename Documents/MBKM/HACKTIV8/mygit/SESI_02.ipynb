{
 "cells": [
  {
   "cell_type": "markdown",
   "id": "091e6335",
   "metadata": {},
   "source": [
    "# SESI 02"
   ]
  },
  {
   "cell_type": "markdown",
   "id": "19ca160b",
   "metadata": {},
   "source": [
    "## Percabangan dan Perulangan"
   ]
  },
  {
   "cell_type": "markdown",
   "id": "8588a0f4",
   "metadata": {},
   "source": [
    "### Conditional"
   ]
  },
  {
   "cell_type": "code",
   "execution_count": null,
   "id": "5cb35296",
   "metadata": {},
   "outputs": [],
   "source": [
    "if condition :\n",
    "    statement\n",
    "    \n",
    "#if statement aalah bagaimana kalian melakukan decision-making\n",
    "#dia punya kondisi dan statement\n",
    "#jangan delete tab sebelum statement agar tidak eror, dan agar python bisa membaca bahwa itu hasil dari condition"
   ]
  },
  {
   "cell_type": "code",
   "execution_count": 2,
   "id": "8733c611",
   "metadata": {},
   "outputs": [],
   "source": [
    "#\n",
    "x = 0\n",
    "y = 5\n",
    "if x<y:\n",
    "    print('yes')"
   ]
  },
  {
   "cell_type": "code",
   "execution_count": 3,
   "id": "77c8cb8e",
   "metadata": {},
   "outputs": [],
   "source": [
    "#\n",
    "if x:\n",
    "    print('yes')"
   ]
  },
  {
   "cell_type": "code",
   "execution_count": 5,
   "id": "ae81d2e3",
   "metadata": {
    "scrolled": true
   },
   "outputs": [
    {
     "name": "stdout",
     "output_type": "stream",
     "text": [
      "yes\n",
      "this is outside of the statment\n"
     ]
    }
   ],
   "source": [
    "if y:\n",
    "    print('yes')\n",
    "    \n",
    "print('this is outside of the statment')"
   ]
  },
  {
   "cell_type": "code",
   "execution_count": 6,
   "id": "867d45da",
   "metadata": {},
   "outputs": [
    {
     "name": "stdout",
     "output_type": "stream",
     "text": [
      "this is outside of the statment\n"
     ]
    }
   ],
   "source": [
    "if False:\n",
    "    print('yes')\n",
    "    \n",
    "print('this is outside of the statment')"
   ]
  },
  {
   "cell_type": "code",
   "execution_count": null,
   "id": "4e04b752",
   "metadata": {},
   "outputs": [],
   "source": [
    "False = 0\n",
    "True = 1"
   ]
  },
  {
   "cell_type": "code",
   "execution_count": null,
   "id": "e3047fa7",
   "metadata": {},
   "outputs": [],
   "source": [
    "# ILUSTRASI : Kalau cuacanya bagus maka aku akan melakukan kegiatan. klo ga bagus maka ga akan melakukan kegiatan"
   ]
  },
  {
   "cell_type": "code",
   "execution_count": 7,
   "id": "225c7bb3",
   "metadata": {},
   "outputs": [
    {
     "name": "stdout",
     "output_type": "stream",
     "text": [
      "yes\n",
      "another activity\n",
      "another activity 1\n",
      "this is outside of the statment\n"
     ]
    }
   ],
   "source": [
    "if y:\n",
    "    print('yes')\n",
    "    print('another activity')\n",
    "    print('another activity 1')\n",
    "    \n",
    "print('this is outside of the statment')"
   ]
  },
  {
   "cell_type": "code",
   "execution_count": 15,
   "id": "0c06ccc3",
   "metadata": {},
   "outputs": [
    {
     "name": "stdout",
     "output_type": "stream",
     "text": [
      "Outer contdition is True\n",
      "inner condition 1\n",
      "Between inner condotion\n"
     ]
    }
   ],
   "source": [
    "if 'foo' in ['foo', 'bar', 'baz']: #hasilnya masih True\n",
    "    print('Outer contdition is True')\n",
    "    \n",
    "    if 10 < 20 :\n",
    "        print('inner condition 1')\n",
    "        \n",
    "    print('Between inner condotion')"
   ]
  },
  {
   "cell_type": "code",
   "execution_count": 11,
   "id": "b8b5068f",
   "metadata": {},
   "outputs": [],
   "source": [
    "if 'foo' in ['bar', 'baz']: #hasilnya False maka statement2 dalam if tidak dijalankan\n",
    "    print('Outer contdition is True')\n",
    "    \n",
    "    if 10 < 20 :\n",
    "        print('inner condition 1')\n",
    "        \n",
    "        "
   ]
  },
  {
   "cell_type": "code",
   "execution_count": 21,
   "id": "05fe8286",
   "metadata": {},
   "outputs": [
    {
     "name": "stdout",
     "output_type": "stream",
     "text": [
      "Outer contdition is True\n",
      "Between inner condotion\n",
      "inner condition 2\n",
      "end of outer condition\n",
      "After outer condition\n"
     ]
    }
   ],
   "source": [
    "if 'foo' in ['foo','bar', 'baz']: #hasilnya masih True\n",
    "    print('Outer contdition is True')\n",
    "    \n",
    "    if 10 > 20 :\n",
    "        print('inner condition 1')\n",
    "        \n",
    "    print('Between inner condotion')\n",
    "    \n",
    "    if 10 < 20:\n",
    "        print('inner condition 2')\n",
    "    \n",
    "    print('end of outer condition')\n",
    "print('After outer condition')"
   ]
  },
  {
   "cell_type": "markdown",
   "id": "eedb1cd0",
   "metadata": {},
   "source": [
    "### ELse and Elif Clauses"
   ]
  },
  {
   "cell_type": "code",
   "execution_count": null,
   "id": "016341f2",
   "metadata": {},
   "outputs": [],
   "source": [
    "if condition: # sama seperti bahasa manusia : klo hujan maka tidak keluar. klo tidak hujan maka bermain diluar\n",
    "    statement\n",
    "else :\n",
    "    statement"
   ]
  },
  {
   "cell_type": "code",
   "execution_count": 24,
   "id": "125c947e",
   "metadata": {},
   "outputs": [
    {
     "name": "stdout",
     "output_type": "stream",
     "text": [
      "(second suite)\n",
      "x is large\n"
     ]
    }
   ],
   "source": [
    "x = 100\n",
    "if x < 50:\n",
    "    print('(first suite)')\n",
    "    print('s is small')\n",
    "else:\n",
    "    print('(second suite)')\n",
    "    print('x is large')"
   ]
  },
  {
   "cell_type": "code",
   "execution_count": 27,
   "id": "a54410b2",
   "metadata": {},
   "outputs": [
    {
     "name": "stdout",
     "output_type": "stream",
     "text": [
      "uang tidak cukup\n"
     ]
    }
   ],
   "source": [
    "hargaBuku = 20000\n",
    "hargaMajalah = 5000\n",
    "uang = 2000\n",
    "if uang > hargaBuku :\n",
    "    print('beli buku')\n",
    "else:\n",
    "    print('uang tidak cukup')"
   ]
  },
  {
   "cell_type": "code",
   "execution_count": 30,
   "id": "51e876b2",
   "metadata": {},
   "outputs": [
    {
     "name": "stdout",
     "output_type": "stream",
     "text": [
      "beli  majalah\n"
     ]
    }
   ],
   "source": [
    "#klo butuh kondisi lebih dari 1 maka butuh elif\n",
    "hargaBuku = 20000\n",
    "hargaMajalah = 5000\n",
    "uang = 10000\n",
    "if uang > hargaBuku : #False\n",
    "    print('beli buku')\n",
    "elif uang > hargaMajalah : # True, maka tdk perlu evaluasi statement selanjutnya\n",
    "    print('beli  majalah')\n",
    "else:\n",
    "    print('uang tidak cukup')"
   ]
  },
  {
   "cell_type": "code",
   "execution_count": 5,
   "id": "e373278d",
   "metadata": {},
   "outputs": [
    {
     "name": "stdout",
     "output_type": "stream",
     "text": [
      "Hello Arnold\n"
     ]
    }
   ],
   "source": [
    "name = 'Arnold'\n",
    "\n",
    "if name == 'Fred':\n",
    "    print('Hello Fred')\n",
    "elif name == 'Xander':\n",
    "    print('Hello Xander')\n",
    "elif name == 'Hacktiv8':\n",
    "    print('Hello Hacktiv8')\n",
    "elif name == 'Arnold':\n",
    "    print('Hello Arnold')\n",
    "else:\n",
    "    print('i don\"t know who you are')"
   ]
  },
  {
   "cell_type": "code",
   "execution_count": 49,
   "id": "008dd984",
   "metadata": {},
   "outputs": [
    {
     "ename": "ZeroDivisionError",
     "evalue": "division by zero",
     "output_type": "error",
     "traceback": [
      "\u001b[1;31m---------------------------------------------------------------------------\u001b[0m",
      "\u001b[1;31mZeroDivisionError\u001b[0m                         Traceback (most recent call last)",
      "\u001b[1;32mC:\\Users\\LENOVO~1\\AppData\\Local\\Temp/ipykernel_5028/3334220069.py\u001b[0m in \u001b[0;36m<module>\u001b[1;34m\u001b[0m\n\u001b[0;32m      1\u001b[0m \u001b[1;32mif\u001b[0m \u001b[1;34m'x'\u001b[0m \u001b[1;32min\u001b[0m \u001b[1;34m'bar'\u001b[0m\u001b[1;33m:\u001b[0m \u001b[1;31m#False\u001b[0m\u001b[1;33m\u001b[0m\u001b[1;33m\u001b[0m\u001b[0m\n\u001b[0;32m      2\u001b[0m     \u001b[0mprint\u001b[0m\u001b[1;33m(\u001b[0m\u001b[1;34m'foo'\u001b[0m\u001b[1;33m)\u001b[0m\u001b[1;33m\u001b[0m\u001b[1;33m\u001b[0m\u001b[0m\n\u001b[1;32m----> 3\u001b[1;33m \u001b[1;32melif\u001b[0m \u001b[1;36m1\u001b[0m\u001b[1;33m/\u001b[0m\u001b[1;36m0\u001b[0m \u001b[1;33m:\u001b[0m\u001b[1;33m\u001b[0m\u001b[1;33m\u001b[0m\u001b[0m\n\u001b[0m\u001b[0;32m      4\u001b[0m     \u001b[0mprint\u001b[0m\u001b[1;33m(\u001b[0m\u001b[1;34m'This will not happen'\u001b[0m\u001b[1;33m)\u001b[0m\u001b[1;33m\u001b[0m\u001b[1;33m\u001b[0m\u001b[0m\n\u001b[0;32m      5\u001b[0m \u001b[1;32melif\u001b[0m \u001b[0mvar\u001b[0m\u001b[1;33m:\u001b[0m\u001b[1;33m\u001b[0m\u001b[1;33m\u001b[0m\u001b[0m\n",
      "\u001b[1;31mZeroDivisionError\u001b[0m: division by zero"
     ]
    }
   ],
   "source": [
    "if 'x' in 'bar': #False\n",
    "    print('foo')\n",
    "elif 1/0 :\n",
    "    print('This will not happen')\n",
    "elif var:\n",
    "    print('This will not happen')"
   ]
  },
  {
   "cell_type": "code",
   "execution_count": 48,
   "id": "982c0706",
   "metadata": {},
   "outputs": [
    {
     "name": "stdout",
     "output_type": "stream",
     "text": [
      "foo\n"
     ]
    }
   ],
   "source": [
    "if 'a' in 'bar': #True\n",
    "    print('foo')\n",
    "elif 1/0 :\n",
    "    print(\"This won't happen\")\n",
    "elif var:\n",
    "    print(\"This won't either\")"
   ]
  },
  {
   "cell_type": "markdown",
   "id": "56635acc",
   "metadata": {},
   "source": [
    "### One-line if statement"
   ]
  },
  {
   "cell_type": "code",
   "execution_count": 35,
   "id": "eea36a6f",
   "metadata": {},
   "outputs": [
    {
     "name": "stdout",
     "output_type": "stream",
     "text": [
      "1\n",
      "2\n",
      "3\n"
     ]
    }
   ],
   "source": [
    "# 1 line atau baris\n",
    "if 'f' in 'foo': print('1'); print('2'); print('3')"
   ]
  },
  {
   "cell_type": "code",
   "execution_count": 44,
   "id": "767826c9",
   "metadata": {},
   "outputs": [
    {
     "name": "stdout",
     "output_type": "stream",
     "text": [
      "1\n",
      "2\n",
      "3\n"
     ]
    }
   ],
   "source": [
    "if 'f' in 'foo':\n",
    "    print('1')\n",
    "    print('2')\n",
    "    print('3')"
   ]
  },
  {
   "cell_type": "code",
   "execution_count": 41,
   "id": "dcbf5074",
   "metadata": {},
   "outputs": [
    {
     "name": "stdout",
     "output_type": "stream",
     "text": [
      "corge\n",
      "grault\n"
     ]
    }
   ],
   "source": [
    "x = 3 \n",
    "if x==1: print('foo'); print('bar'); print('baz') #False\n",
    "elif x==2 : print('qux'); print('quux'); #True\n",
    "else: print('corge'); print('grault')"
   ]
  },
  {
   "cell_type": "code",
   "execution_count": 47,
   "id": "04ef38fe",
   "metadata": {},
   "outputs": [
    {
     "name": "stdout",
     "output_type": "stream",
     "text": [
      "foo\n",
      "bar\n",
      "baz\n"
     ]
    }
   ],
   "source": [
    "x = 1 \n",
    "if x==1: \n",
    "    print('foo')\n",
    "    print('bar')\n",
    "    print('baz') #False\n",
    "elif x==2 :\n",
    "    print('qux')\n",
    "    print('quux')  #True\n",
    "else:\n",
    "    print('corge')\n",
    "    print('grault')"
   ]
  },
  {
   "cell_type": "markdown",
   "id": "65f5f9d0",
   "metadata": {},
   "source": [
    "### Conditional Expressions\n",
    "operator yang mendefinisikan ekspresi.\n",
    "syntaks : <expres1> if <cnditional_express> else <express2>\n",
    "Tahapan : \n",
    "    <cnditional_express> dievaluasi dulu: \n",
    "1. jika benar-->evaluasi <expres1>\n",
    "2. jika salah-->evaluasi <expres2>"
   ]
  },
  {
   "cell_type": "code",
   "execution_count": 8,
   "id": "f6c001fe",
   "metadata": {},
   "outputs": [
    {
     "name": "stdout",
     "output_type": "stream",
     "text": [
      "Lets go to the beach\n"
     ]
    }
   ],
   "source": [
    "raining = True\n",
    "print('Lets go to the', 'beach' if raining else 'library')"
   ]
  },
  {
   "cell_type": "code",
   "execution_count": 50,
   "id": "f97649d7",
   "metadata": {},
   "outputs": [
    {
     "name": "stdout",
     "output_type": "stream",
     "text": [
      "Lets go to the beach\n"
     ]
    }
   ],
   "source": [
    "raining = False\n",
    "print('Lets go to the', 'beach' if not raining else 'library')\n",
    "\n",
    "#taining = False (tidak hujan)"
   ]
  },
  {
   "cell_type": "code",
   "execution_count": 51,
   "id": "e2109059",
   "metadata": {},
   "outputs": [
    {
     "name": "stdout",
     "output_type": "stream",
     "text": [
      "Lets go to the library\n"
     ]
    }
   ],
   "source": [
    "raining = False\n",
    "print('Lets go to the', 'beach' if raining else 'library')"
   ]
  },
  {
   "cell_type": "code",
   "execution_count": 53,
   "id": "f84cd7c0",
   "metadata": {},
   "outputs": [
    {
     "data": {
      "text/plain": [
       "'adult'"
      ]
     },
     "execution_count": 53,
     "metadata": {},
     "output_type": "execute_result"
    }
   ],
   "source": [
    "age = 70\n",
    "\n",
    "s = 'teen' if age < 21 else 'adult'\n",
    "\n",
    "s"
   ]
  },
  {
   "cell_type": "code",
   "execution_count": 54,
   "id": "8189fd65",
   "metadata": {},
   "outputs": [
    {
     "data": {
      "text/plain": [
       "'no'"
      ]
     },
     "execution_count": 54,
     "metadata": {},
     "output_type": "execute_result"
    }
   ],
   "source": [
    "'yes' if ('qux' in ['foo', 'bar', 'baz']) else 'no'"
   ]
  },
  {
   "cell_type": "code",
   "execution_count": null,
   "id": "c4442e5a",
   "metadata": {},
   "outputs": [],
   "source": [
    "a = 0\n",
    "b = 5\n",
    "\n",
    "m = a if (a > b) else b "
   ]
  },
  {
   "cell_type": "code",
   "execution_count": null,
   "id": "8fd4ae31",
   "metadata": {},
   "outputs": [],
   "source": [
    "if a > b :\n",
    "    m = a \n",
    "else:\n",
    "    m = b"
   ]
  },
  {
   "cell_type": "markdown",
   "id": "e1119092",
   "metadata": {},
   "source": [
    "### Pass Statement\n",
    "->python pass statement tidak mengubah perilaku program sama sekali."
   ]
  },
  {
   "cell_type": "code",
   "execution_count": 59,
   "id": "51486dbb",
   "metadata": {},
   "outputs": [
    {
     "ename": "IndentationError",
     "evalue": "expected an indented block (Temp/ipykernel_5028/3367160564.py, line 3)",
     "output_type": "error",
     "traceback": [
      "\u001b[1;36m  File \u001b[1;32m\"C:\\Users\\LENOVO~1\\AppData\\Local\\Temp/ipykernel_5028/3367160564.py\"\u001b[1;36m, line \u001b[1;32m3\u001b[0m\n\u001b[1;33m    print('foo')\u001b[0m\n\u001b[1;37m    ^\u001b[0m\n\u001b[1;31mIndentationError\u001b[0m\u001b[1;31m:\u001b[0m expected an indented block\n"
     ]
    }
   ],
   "source": [
    "if True:\n",
    "\n",
    "print('foo')"
   ]
  },
  {
   "cell_type": "code",
   "execution_count": 62,
   "id": "0f237fe9",
   "metadata": {},
   "outputs": [
    {
     "name": "stdout",
     "output_type": "stream",
     "text": [
      "foo\n"
     ]
    }
   ],
   "source": [
    "if True:\n",
    "    pass\n",
    "\n",
    "print('foo')"
   ]
  },
  {
   "cell_type": "code",
   "execution_count": 10,
   "id": "a16d6179",
   "metadata": {},
   "outputs": [],
   "source": [
    "%%run foo.py"
   ]
  },
  {
   "cell_type": "markdown",
   "id": "fb50814c",
   "metadata": {},
   "source": [
    "### Iteration\n",
    "-> mengeksekusi blok kode yang sama berulang kali\n",
    "-> Jenis iterasi :\n",
    "1. indefinite iteration\n",
    "   jumlah perulangan tidak ditentukan scr eksplisit. blok kode yang ditunjuk dijalankan berlang kali selama kondisi terpenuhi\n",
    "2. definite iteration\n",
    "   jumlah iterasi di tentukan scr eksplisit"
   ]
  },
  {
   "cell_type": "code",
   "execution_count": null,
   "id": "c3f15ff2",
   "metadata": {},
   "outputs": [],
   "source": [
    "while condition:\n",
    "    statement"
   ]
  },
  {
   "cell_type": "code",
   "execution_count": 67,
   "id": "90f896da",
   "metadata": {},
   "outputs": [
    {
     "name": "stdout",
     "output_type": "stream",
     "text": [
      "4\n",
      "3\n",
      "2\n",
      "1\n",
      "0\n"
     ]
    }
   ],
   "source": [
    "n = 5\n",
    "while n > 0: #akan sellalu berjalan selmaa kondisi terpenuhi\n",
    "    n-= 1\n",
    "    print(n)"
   ]
  },
  {
   "cell_type": "code",
   "execution_count": null,
   "id": "87acaeee",
   "metadata": {},
   "outputs": [],
   "source": [
    "n = n - 1"
   ]
  },
  {
   "cell_type": "code",
   "execution_count": null,
   "id": "81484975",
   "metadata": {},
   "outputs": [],
   "source": [
    "n-=1 "
   ]
  },
  {
   "cell_type": "code",
   "execution_count": 2,
   "id": "d9d8fc5f",
   "metadata": {},
   "outputs": [
    {
     "name": "stdout",
     "output_type": "stream",
     "text": [
      "1\n",
      "2\n",
      "3\n",
      "4\n",
      "5\n"
     ]
    }
   ],
   "source": [
    "i = 1\n",
    "\n",
    "while i < 6:\n",
    "    print(i)\n",
    "    i += 1  \n",
    "    #klo ini di off kan maka akan printing 1 trus menerus"
   ]
  },
  {
   "cell_type": "markdown",
   "id": "d7e6b1bf",
   "metadata": {},
   "source": [
    "### The Python Break and Continue Statements\n",
    "-> break menghentikan perulangan seluruhnya, dan dilanjutkan ke pernyataan pertama setelah badan loop.\n",
    "-> continue maka akan menghentikan iterasi loop. lalu diteruskan ke atas loop untuk mengevaluasi ulang, jika masih benar maka iterasi dilajutkan."
   ]
  },
  {
   "cell_type": "code",
   "execution_count": 3,
   "id": "a9a6b855",
   "metadata": {},
   "outputs": [
    {
     "name": "stdout",
     "output_type": "stream",
     "text": [
      "9\n",
      "8\n",
      "7\n",
      "6\n",
      "5\n",
      "4\n",
      "3\n",
      "Loop ended.\n"
     ]
    }
   ],
   "source": [
    "n = 10\n",
    "while n > 0:\n",
    "    n -= 1\n",
    "    if n == 2:\n",
    "        break\n",
    "    print(n)\n",
    "    \n",
    "print('Loop ended.')"
   ]
  },
  {
   "cell_type": "markdown",
   "id": "21c77f1b",
   "metadata": {},
   "source": [
    "### Else Claus\n"
   ]
  },
  {
   "cell_type": "code",
   "execution_count": 5,
   "id": "3f6b64a5",
   "metadata": {},
   "outputs": [
    {
     "name": "stdout",
     "output_type": "stream",
     "text": [
      "4\n",
      "3\n",
      "2\n",
      "1\n",
      "0\n",
      "Loop Done.\n"
     ]
    }
   ],
   "source": [
    "n = 5\n",
    "\n",
    "while n > 0:\n",
    "    n-=1\n",
    "    print(n)\n",
    "else:\n",
    "    print('Loop Done.')"
   ]
  },
  {
   "cell_type": "code",
   "execution_count": 6,
   "id": "352451f6",
   "metadata": {},
   "outputs": [
    {
     "name": "stdout",
     "output_type": "stream",
     "text": [
      "4\n",
      "3\n",
      "2\n"
     ]
    }
   ],
   "source": [
    "n = 5\n",
    "\n",
    "while n > 0:\n",
    "    n-=1\n",
    "    print(n)\n",
    "    if n == 2:\n",
    "        break #tidak akan pernah lompat ke else statment\n",
    "else:\n",
    "    print('Loop Done.')"
   ]
  },
  {
   "cell_type": "markdown",
   "id": "5f9ee765",
   "metadata": {},
   "source": [
    "### Infinite Loops"
   ]
  },
  {
   "cell_type": "code",
   "execution_count": 22,
   "id": "46d860f8",
   "metadata": {},
   "outputs": [],
   "source": [
    "while True:\n",
    "    print('foo')"
   ]
  },
  {
   "cell_type": "markdown",
   "id": "c44a8384",
   "metadata": {},
   "source": [
    "### Nested While Loops"
   ]
  },
  {
   "cell_type": "code",
   "execution_count": 36,
   "id": "a70dba16",
   "metadata": {},
   "outputs": [
    {
     "name": "stdout",
     "output_type": "stream",
     "text": [
      "daughter\n"
     ]
    }
   ],
   "source": [
    "age = 10\n",
    "gender = 'W'\n",
    "\n",
    "if age < 18:\n",
    "    if gender =='M':\n",
    "        print('son')\n",
    "    else:\n",
    "        print('daughter')\n",
    "elif age >= 18 and age <= 65:\n",
    "    if gender == 'M':\n",
    "        print('father')\n",
    "    else:\n",
    "        print('mother')\n",
    "else:\n",
    "    if gender == 'M':\n",
    "        print('grandfather')\n",
    "    else:\n",
    "        print('grandmother')"
   ]
  },
  {
   "cell_type": "code",
   "execution_count": 37,
   "id": "dc00a1c5",
   "metadata": {},
   "outputs": [
    {
     "name": "stdout",
     "output_type": "stream",
     "text": [
      "foo\n",
      "> baz\n",
      "> qux\n",
      "bar\n",
      "> baz\n",
      "> qux\n"
     ]
    }
   ],
   "source": [
    "a = ['foo', 'bar']\n",
    "\n",
    "while len(a):\n",
    "    print(a.pop(0))\n",
    "    \n",
    "    b = ['baz', 'qux']\n",
    "    \n",
    "    while len(b):\n",
    "        print('>', b.pop(0))"
   ]
  },
  {
   "cell_type": "code",
   "execution_count": 5,
   "id": "d91cfec8",
   "metadata": {},
   "outputs": [
    {
     "data": {
      "text/plain": [
       "2"
      ]
     },
     "execution_count": 5,
     "metadata": {},
     "output_type": "execute_result"
    }
   ],
   "source": [
    "a = ['foo', 'bar']\n",
    "len(a)"
   ]
  },
  {
   "cell_type": "code",
   "execution_count": 6,
   "id": "6414df6f",
   "metadata": {},
   "outputs": [
    {
     "data": {
      "text/plain": [
       "0"
      ]
     },
     "execution_count": 6,
     "metadata": {},
     "output_type": "execute_result"
    }
   ],
   "source": [
    "len([])"
   ]
  },
  {
   "cell_type": "code",
   "execution_count": 8,
   "id": "52641f7b",
   "metadata": {},
   "outputs": [],
   "source": [
    "#0 = False"
   ]
  },
  {
   "cell_type": "code",
   "execution_count": 1,
   "id": "a8f443df",
   "metadata": {},
   "outputs": [
    {
     "name": "stdout",
     "output_type": "stream",
     "text": [
      "foo\n",
      "bar\n",
      "baz\n"
     ]
    }
   ],
   "source": [
    "a = ['foo', 'bar', 'baz']\n",
    "\n",
    "for i in a:\n",
    "    print(i)"
   ]
  },
  {
   "cell_type": "code",
   "execution_count": 9,
   "id": "986c1db2",
   "metadata": {},
   "outputs": [
    {
     "data": {
      "text/plain": [
       "{'foo': 1, 'bar': 2, 'baz': 3}"
      ]
     },
     "execution_count": 9,
     "metadata": {},
     "output_type": "execute_result"
    }
   ],
   "source": [
    "d = {'foo':1, 'bar':2, 'baz':3}\n",
    "d"
   ]
  },
  {
   "cell_type": "code",
   "execution_count": 25,
   "id": "df045850",
   "metadata": {},
   "outputs": [
    {
     "name": "stdout",
     "output_type": "stream",
     "text": [
      "foo\n",
      "bar\n",
      "baz\n"
     ]
    }
   ],
   "source": [
    "d = {'foo':1, 'bar':2, 'baz':3}\n",
    "\n",
    "for k in d:\n",
    "    print(k)"
   ]
  },
  {
   "cell_type": "code",
   "execution_count": 11,
   "id": "eb276e0c",
   "metadata": {},
   "outputs": [
    {
     "name": "stdout",
     "output_type": "stream",
     "text": [
      "1\n",
      "2\n",
      "3\n"
     ]
    }
   ],
   "source": [
    "d = {'foo':1, 'bar':2, 'baz':3}\n",
    "\n",
    "for k in d:\n",
    "    print(d[k])"
   ]
  },
  {
   "cell_type": "code",
   "execution_count": 16,
   "id": "24884bd2",
   "metadata": {},
   "outputs": [
    {
     "name": "stdout",
     "output_type": "stream",
     "text": [
      "1\n",
      "2\n",
      "3\n"
     ]
    }
   ],
   "source": [
    "for k in d.values():\n",
    "    print(k)"
   ]
  },
  {
   "cell_type": "code",
   "execution_count": 17,
   "id": "0ebf15fa",
   "metadata": {},
   "outputs": [
    {
     "data": {
      "text/plain": [
       "dict_values([1, 2, 3])"
      ]
     },
     "execution_count": 17,
     "metadata": {},
     "output_type": "execute_result"
    }
   ],
   "source": [
    "d.values()"
   ]
  },
  {
   "cell_type": "code",
   "execution_count": 18,
   "id": "6622ab06",
   "metadata": {},
   "outputs": [
    {
     "data": {
      "text/plain": [
       "dict_items([('foo', 1), ('bar', 2), ('baz', 3)])"
      ]
     },
     "execution_count": 18,
     "metadata": {},
     "output_type": "execute_result"
    }
   ],
   "source": [
    "d.items()"
   ]
  },
  {
   "cell_type": "code",
   "execution_count": 19,
   "id": "bb211d90",
   "metadata": {},
   "outputs": [
    {
     "name": "stdout",
     "output_type": "stream",
     "text": [
      "foo : 1\n",
      "bar : 2\n",
      "baz : 3\n"
     ]
    }
   ],
   "source": [
    "for k, v in d.items():\n",
    "    print(k, ':', v)"
   ]
  },
  {
   "cell_type": "markdown",
   "id": "4713dd3b",
   "metadata": {},
   "source": [
    "### The range function"
   ]
  },
  {
   "cell_type": "code",
   "execution_count": 23,
   "id": "a4080764",
   "metadata": {},
   "outputs": [
    {
     "name": "stdout",
     "output_type": "stream",
     "text": [
      "0\n",
      "1\n",
      "2\n",
      "3\n",
      "4\n"
     ]
    }
   ],
   "source": [
    "for n in [0,1,2,3,4]:\n",
    "    print(n)"
   ]
  },
  {
   "cell_type": "code",
   "execution_count": 27,
   "id": "f67ffa76",
   "metadata": {},
   "outputs": [
    {
     "data": {
      "text/plain": [
       "range(0, 5)"
      ]
     },
     "execution_count": 27,
     "metadata": {},
     "output_type": "execute_result"
    }
   ],
   "source": [
    "x = range(5)\n",
    "x"
   ]
  },
  {
   "cell_type": "code",
   "execution_count": 28,
   "id": "60e2834c",
   "metadata": {},
   "outputs": [
    {
     "name": "stdout",
     "output_type": "stream",
     "text": [
      "0\n",
      "1\n",
      "2\n",
      "3\n",
      "4\n"
     ]
    }
   ],
   "source": [
    "for n in x:\n",
    "    print(n)"
   ]
  },
  {
   "cell_type": "code",
   "execution_count": 29,
   "id": "46559f94",
   "metadata": {},
   "outputs": [
    {
     "name": "stdout",
     "output_type": "stream",
     "text": [
      "0\n",
      "1\n",
      "2\n",
      "3\n",
      "4\n"
     ]
    }
   ],
   "source": [
    "for n in range(5):\n",
    "    print(n)"
   ]
  },
  {
   "cell_type": "markdown",
   "id": "6aefb502",
   "metadata": {},
   "source": [
    "### Altering for Loop Behaviour\n",
    "--> pop(0) maka mengeluarkan elemen berindeks 0 dalam list\n",
    "--> klo del maka kita gaakan tahu mana yg dah dihapus. klo pop akan ada laporan apa yang dihapus"
   ]
  },
  {
   "cell_type": "code",
   "execution_count": 3,
   "id": "0ad5eb54",
   "metadata": {},
   "outputs": [
    {
     "name": "stdout",
     "output_type": "stream",
     "text": [
      "foo\n"
     ]
    }
   ],
   "source": [
    "for i in ['foo', 'bar', 'baz', 'qux']:\n",
    "    if 'b' in i:\n",
    "        break\n",
    "    print(i)"
   ]
  },
  {
   "cell_type": "code",
   "execution_count": 4,
   "id": "17988afa",
   "metadata": {},
   "outputs": [
    {
     "name": "stdout",
     "output_type": "stream",
     "text": [
      "foo\n",
      "qux\n"
     ]
    }
   ],
   "source": [
    "for i in ['foo', 'bar', 'baz', 'qux']:\n",
    "    if 'b' in i:\n",
    "        continue\n",
    "    print(i)"
   ]
  },
  {
   "cell_type": "code",
   "execution_count": 38,
   "id": "cd28caa5",
   "metadata": {},
   "outputs": [
    {
     "name": "stdout",
     "output_type": "stream",
     "text": [
      "foo\n",
      "bar\n",
      "baz\n",
      "qux\n",
      "Done.\n"
     ]
    }
   ],
   "source": [
    "for i in ['foo', 'bar', 'baz', 'qux']:\n",
    "    print(i)\n",
    "else:\n",
    "    print('Done.')"
   ]
  },
  {
   "cell_type": "code",
   "execution_count": 39,
   "id": "a6e5b8ad",
   "metadata": {},
   "outputs": [
    {
     "name": "stdout",
     "output_type": "stream",
     "text": [
      "foo\n",
      "bar\n"
     ]
    }
   ],
   "source": [
    "for i in ['foo', 'bar', 'baz', 'qux']:\n",
    "    if i == 'baz':\n",
    "        break\n",
    "    print(i)\n",
    "else:\n",
    "    print('Done.')"
   ]
  },
  {
   "cell_type": "code",
   "execution_count": 30,
   "id": "c3d7bd2e",
   "metadata": {},
   "outputs": [
    {
     "data": {
      "text/plain": [
       "'foo'"
      ]
     },
     "execution_count": 30,
     "metadata": {},
     "output_type": "execute_result"
    }
   ],
   "source": [
    "a = ['foo', 'bar', 'baz', 'qux']\n",
    "\n",
    "a.pop(0)"
   ]
  },
  {
   "cell_type": "code",
   "execution_count": 31,
   "id": "21996b3a",
   "metadata": {},
   "outputs": [
    {
     "data": {
      "text/plain": [
       "['bar', 'baz', 'qux']"
      ]
     },
     "execution_count": 31,
     "metadata": {},
     "output_type": "execute_result"
    }
   ],
   "source": [
    "a"
   ]
  },
  {
   "cell_type": "code",
   "execution_count": 32,
   "id": "a99df38c",
   "metadata": {},
   "outputs": [
    {
     "data": {
      "text/plain": [
       "'qux'"
      ]
     },
     "execution_count": 32,
     "metadata": {},
     "output_type": "execute_result"
    }
   ],
   "source": [
    "a.pop(-1)"
   ]
  },
  {
   "cell_type": "code",
   "execution_count": 5,
   "id": "2a2a2a3b",
   "metadata": {},
   "outputs": [
    {
     "name": "stdout",
     "output_type": "stream",
     "text": [
      "foo\n",
      "bar\n",
      "baz\n",
      "qux\n",
      "Done.\n"
     ]
    }
   ],
   "source": [
    "for i in ['foo', 'bar', 'baz', 'qux']:\n",
    "    print(i)\n",
    "else:\n",
    "    print('Done.')"
   ]
  },
  {
   "cell_type": "code",
   "execution_count": 6,
   "id": "538be503",
   "metadata": {},
   "outputs": [
    {
     "name": "stdout",
     "output_type": "stream",
     "text": [
      "foo\n",
      "bar\n"
     ]
    }
   ],
   "source": [
    "for i in ['foo', 'bar', 'baz', 'qux']:\n",
    "    if i == 'baz':\n",
    "        break\n",
    "    print(i)\n",
    "else:\n",
    "    print('Done.')"
   ]
  },
  {
   "cell_type": "code",
   "execution_count": 3,
   "id": "316b621d",
   "metadata": {},
   "outputs": [
    {
     "name": "stdout",
     "output_type": "stream",
     "text": [
      "Ketikkan temperatur yang ingin di konversi, e.g.: 45F, 120C:75F\n",
      "Temperaturnya adalah 24 derajat\n"
     ]
    }
   ],
   "source": [
    "#ilustrasi\n",
    "temp = input('Ketikkan temperatur yang ingin di konversi, e.g.: 45F, 120C:')\n",
    "\n",
    "degree = int(temp[:-1])\n",
    "i_convertion = temp[-1]\n",
    "\n",
    "if i_convertion == 'C':\n",
    "    result = int(round((9 * degree) / 5 + 32))\n",
    "elif i_convertion == 'F':\n",
    "    result = int(round((degree - 32) * 5 / 9))\n",
    "else:\n",
    "    print('Masukkan input yang benar')\n",
    "    \n",
    "print('Temperaturnya adalah', result, 'derajat')"
   ]
  },
  {
   "cell_type": "code",
   "execution_count": 4,
   "id": "86ea823d",
   "metadata": {},
   "outputs": [
    {
     "name": "stdout",
     "output_type": "stream",
     "text": [
      "Ketikkan karakter: Aliza\n",
      "aliza\n",
      "Ketikkan karakter: Muslimah\n",
      "muslimah\n",
      "Ketikkan karakter: stop\n",
      "stop\n"
     ]
    }
   ],
   "source": [
    "while True :\n",
    "    msg = input('Ketikkan karakter: ').lower()\n",
    "    print(msg)\n",
    "    if msg == 'stop':\n",
    "        break"
   ]
  }
 ],
 "metadata": {
  "kernelspec": {
   "display_name": "Python 3 (ipykernel)",
   "language": "python",
   "name": "python3"
  },
  "language_info": {
   "codemirror_mode": {
    "name": "ipython",
    "version": 3
   },
   "file_extension": ".py",
   "mimetype": "text/x-python",
   "name": "python",
   "nbconvert_exporter": "python",
   "pygments_lexer": "ipython3",
   "version": "3.9.7"
  },
  "toc": {
   "base_numbering": 1,
   "nav_menu": {},
   "number_sections": true,
   "sideBar": true,
   "skip_h1_title": false,
   "title_cell": "Table of Contents",
   "title_sidebar": "Contents",
   "toc_cell": false,
   "toc_position": {},
   "toc_section_display": true,
   "toc_window_display": false
  }
 },
 "nbformat": 4,
 "nbformat_minor": 5
}
