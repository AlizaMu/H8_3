{
 "cells": [
  {
   "cell_type": "code",
   "execution_count": null,
   "id": "71f925b4",
   "metadata": {},
   "outputs": [],
   "source": []
  },
  {
   "cell_type": "code",
   "execution_count": 1,
   "id": "940c392a",
   "metadata": {},
   "outputs": [
    {
     "name": "stdout",
     "output_type": "stream",
     "text": [
      "Hello World\n"
     ]
    }
   ],
   "source": [
    "print('Hello World')"
   ]
  },
  {
   "cell_type": "code",
   "execution_count": null,
   "id": "cd13c1be",
   "metadata": {
    "collapsed": true
   },
   "outputs": [],
   "source": [
    "i = 1\n",
    "while (i <= 10):\n",
    "    print(i)\n",
    "    i = i + 1"
   ]
  },
  {
   "cell_type": "markdown",
   "id": "f29d4f2e",
   "metadata": {},
   "source": [
    "# Heading1"
   ]
  },
  {
   "cell_type": "markdown",
   "id": "b54a099e",
   "metadata": {},
   "source": [
    "## Heading2"
   ]
  },
  {
   "cell_type": "code",
   "execution_count": null,
   "id": "7c7b1978",
   "metadata": {
    "collapsed": true
   },
   "outputs": [],
   "source": [
    "!pip3 install pip pandas"
   ]
  },
  {
   "cell_type": "code",
   "execution_count": null,
   "id": "d2e25747",
   "metadata": {
    "collapsed": true
   },
   "outputs": [],
   "source": [
    "import pandas as pd\n",
    "import numpy as np"
   ]
  },
  {
   "cell_type": "code",
   "execution_count": null,
   "id": "90a5a240",
   "metadata": {
    "collapsed": true
   },
   "outputs": [],
   "source": [
    "#membuat array 2 dimensi\n",
    "data = pd.DataFrame(data=np.array([[1,2,3],[4,5,6]], dtype=int), columns=['A', 'B','C'])\n",
    "data"
   ]
  },
  {
   "cell_type": "markdown",
   "id": "c68876c2",
   "metadata": {},
   "source": [
    "## Using LaTex"
   ]
  },
  {
   "cell_type": "markdown",
   "id": "e7b7c879",
   "metadata": {},
   "source": [
    "$$c = \\sqrt{a^2 + b^2}$$"
   ]
  },
  {
   "cell_type": "code",
   "execution_count": null,
   "id": "50c9a409",
   "metadata": {
    "collapsed": true
   },
   "outputs": [],
   "source": [
    "from IPython.display import display, Math, Latex\n",
    "display(Math(r'\\sqrt{a^2 + b^2}'))"
   ]
  },
  {
   "cell_type": "markdown",
   "id": "d41c0476",
   "metadata": {},
   "source": [
    "## eksekusi shell commands"
   ]
  },
  {
   "cell_type": "code",
   "execution_count": null,
   "id": "afccea37",
   "metadata": {
    "collapsed": true
   },
   "outputs": [],
   "source": [
    "!ls\n",
    "!pwd\n",
    "!echo 'HACKTIV8'"
   ]
  },
  {
   "cell_type": "markdown",
   "id": "02b595b2",
   "metadata": {},
   "source": [
    "### Pass Value ke dan dari shell"
   ]
  },
  {
   "cell_type": "code",
   "execution_count": null,
   "id": "43ce8abf",
   "metadata": {
    "collapsed": true
   },
   "outputs": [],
   "source": [
    "files = !ls\n",
    "print(files)"
   ]
  },
  {
   "cell_type": "code",
   "execution_count": null,
   "id": "d58abbfb",
   "metadata": {
    "collapsed": true
   },
   "outputs": [],
   "source": [
    "from ipywidgets import interact\n",
    "import ipywidgets as widgets"
   ]
  },
  {
   "cell_type": "markdown",
   "id": "38ef034b",
   "metadata": {},
   "source": [
    "### Basic Slider"
   ]
  },
  {
   "cell_type": "code",
   "execution_count": null,
   "id": "3796e247",
   "metadata": {
    "collapsed": true
   },
   "outputs": [],
   "source": [
    "def f(x):\n",
    "    return x\n",
    "interact(f, x=10)"
   ]
  },
  {
   "cell_type": "markdown",
   "id": "6092bf4e",
   "metadata": {},
   "source": [
    "### checkbox"
   ]
  },
  {
   "cell_type": "code",
   "execution_count": null,
   "id": "a5de6630",
   "metadata": {
    "collapsed": true
   },
   "outputs": [],
   "source": [
    "interact(f, x=True)"
   ]
  },
  {
   "cell_type": "markdown",
   "id": "d2c49752",
   "metadata": {},
   "source": [
    "### Textbox"
   ]
  },
  {
   "cell_type": "code",
   "execution_count": null,
   "id": "c7a4229b",
   "metadata": {
    "collapsed": true
   },
   "outputs": [],
   "source": [
    "interact(f, x='Hi Kode!')"
   ]
  },
  {
   "cell_type": "markdown",
   "id": "a1ad9fe7",
   "metadata": {},
   "source": [
    "### Play Button"
   ]
  },
  {
   "cell_type": "code",
   "execution_count": null,
   "id": "804e3193",
   "metadata": {
    "collapsed": true
   },
   "outputs": [],
   "source": [
    "play = widgets.Play(\n",
    "valus=13,\n",
    "min=0,\n",
    "max=100,\n",
    "step=1,  ## slider berjalan sebanyak satu step\n",
    "description='Tekan Play',\n",
    "disabled=False)\n",
    "slider = widgets.IntSlider()\n",
    "widgets.jslink((play, 'value'),(slider, 'value'))   ##jslink untuk mensinkronksn 2 widgets\n",
    "widgets.HBox([play, slider])  ##HBox mendisplay widgets secara horizontal"
   ]
  },
  {
   "cell_type": "markdown",
   "id": "0dae9509",
   "metadata": {},
   "source": [
    "### Date Picker"
   ]
  },
  {
   "cell_type": "code",
   "execution_count": null,
   "id": "a5e7e573",
   "metadata": {
    "collapsed": true
   },
   "outputs": [],
   "source": [
    "widgets.DatePicker(    ## untuk mnegambil tanggal\n",
    "    description='Pilih Tanggal',\n",
    "    disabled=False\n",
    ")"
   ]
  },
  {
   "cell_type": "markdown",
   "id": "f2d504e1",
   "metadata": {},
   "source": [
    "### Tabulasi atau tab"
   ]
  },
  {
   "cell_type": "code",
   "execution_count": null,
   "id": "dfb54169",
   "metadata": {
    "scrolled": true
   },
   "outputs": [],
   "source": [
    "tab_contents = ['K0','K1', 'K2', 'K3', 'K4']\n",
    "children = [widgets.Text(description=name) for name in tab_contents]\n",
    "tab = widgets.Tab()\n",
    "tab.children = children\n",
    "for i in range (len(children)):\n",
    "    tab.set_title(i, str(i))\n",
    "tab"
   ]
  },
  {
   "cell_type": "code",
   "execution_count": 3,
   "id": "5a41dbb0",
   "metadata": {},
   "outputs": [
    {
     "ename": "SyntaxError",
     "evalue": "invalid syntax (Temp/ipykernel_7200/1865933407.py, line 1)",
     "output_type": "error",
     "traceback": [
      "\u001b[1;36m  File \u001b[1;32m\"C:\\Users\\LENOVO~1\\AppData\\Local\\Temp/ipykernel_7200/1865933407.py\"\u001b[1;36m, line \u001b[1;32m1\u001b[0m\n\u001b[1;33m    jupyter nbextension install jupyter_contrib_nbextension\u001b[0m\n\u001b[1;37m            ^\u001b[0m\n\u001b[1;31mSyntaxError\u001b[0m\u001b[1;31m:\u001b[0m invalid syntax\n"
     ]
    }
   ],
   "source": []
  },
  {
   "cell_type": "code",
   "execution_count": null,
   "id": "df6058c7",
   "metadata": {},
   "outputs": [],
   "source": []
  }
 ],
 "metadata": {
  "kernelspec": {
   "display_name": "Python 3 (ipykernel)",
   "language": "python",
   "name": "python3"
  },
  "language_info": {
   "codemirror_mode": {
    "name": "ipython",
    "version": 3
   },
   "file_extension": ".py",
   "mimetype": "text/x-python",
   "name": "python",
   "nbconvert_exporter": "python",
   "pygments_lexer": "ipython3",
   "version": "3.9.7"
  },
  "toc": {
   "base_numbering": 1,
   "nav_menu": {},
   "number_sections": true,
   "sideBar": true,
   "skip_h1_title": false,
   "title_cell": "Table of Contents",
   "title_sidebar": "Contents",
   "toc_cell": false,
   "toc_position": {},
   "toc_section_display": true,
   "toc_window_display": false
  }
 },
 "nbformat": 4,
 "nbformat_minor": 5
}
